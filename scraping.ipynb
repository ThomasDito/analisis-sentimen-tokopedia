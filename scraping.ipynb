{
 "cells": [
  {
   "cell_type": "markdown",
   "metadata": {},
   "source": [
    "# Import"
   ]
  },
  {
   "cell_type": "code",
   "execution_count": 1,
   "metadata": {},
   "outputs": [],
   "source": [
    "import requests\n",
    "import pandas as pd\n",
    "import numpy as np\n",
    "from google_play_scraper import reviews_all, Sort\n",
    "import csv"
   ]
  },
  {
   "cell_type": "markdown",
   "metadata": {},
   "source": [
    "# Scraping"
   ]
  },
  {
   "cell_type": "code",
   "execution_count": null,
   "metadata": {},
   "outputs": [],
   "source": [
    "# Mengambil semua ulasan dari aplikasi Google Translate di Google Play Store\n",
    "scrapreview = reviews_all(\n",
    "    'com.tokopedia.tkpd', # ID aplikasi\n",
    "    lang='id',\n",
    "    country='id',\n",
    "    sort=Sort.MOST_RELEVANT, # Urutan ulasan\n",
    "    count=10000 # Jumlah maksimum ulasan yang ingin diambil\n",
    ")"
   ]
  },
  {
   "cell_type": "code",
   "execution_count": 3,
   "metadata": {},
   "outputs": [],
   "source": [
    "# Menyimpan ulasan dalam file CSV\n",
    "with open('./data/ulasan_tokopedia.csv', mode='w', newline='', encoding='utf-8') as file:\n",
    "    writer = csv.writer(file, escapechar='\\\\', quoting=csv.QUOTE_MINIMAL)\n",
    "    writer.writerow(['Review'])  # Menulis header kolom\n",
    "    for review in scrapreview:\n",
    "        writer.writerow([review['content']])  # Menulis konten ulasan ke dalam file CSV"
   ]
  },
  {
   "cell_type": "code",
   "execution_count": 4,
   "metadata": {},
   "outputs": [],
   "source": [
    "app_reviews_df = pd.DataFrame(scrapreview)\n",
    "app_reviews_df.shape\n",
    "app_reviews_df.to_csv('./data/ulasan_tokopedia.csv', index=False, escapechar='\\\\')\n",
    "\n",
    "# Membuat DataFrame dari hasil scrapreview\n",
    "app_reviews_df = pd.DataFrame(scrapreview)\n",
    "\n",
    "# Menghitung jumlah baris dan kolom dalam DataFrame\n",
    "jumlah_ulasan, jumlah_kolom = app_reviews_df.shape"
   ]
  },
  {
   "cell_type": "code",
   "execution_count": 5,
   "metadata": {},
   "outputs": [
    {
     "name": "stdout",
     "output_type": "stream",
     "text": [
      "Jumlah Ulasan: 184500\n",
      "Jumlah Kolom: 11\n"
     ]
    }
   ],
   "source": [
    "print(f'Jumlah Ulasan: {jumlah_ulasan}')\n",
    "print(f'Jumlah Kolom: {jumlah_kolom}')"
   ]
  },
  {
   "cell_type": "code",
   "execution_count": 6,
   "metadata": {},
   "outputs": [
    {
     "data": {
      "text/html": [
       "<div>\n",
       "<style scoped>\n",
       "    .dataframe tbody tr th:only-of-type {\n",
       "        vertical-align: middle;\n",
       "    }\n",
       "\n",
       "    .dataframe tbody tr th {\n",
       "        vertical-align: top;\n",
       "    }\n",
       "\n",
       "    .dataframe thead th {\n",
       "        text-align: right;\n",
       "    }\n",
       "</style>\n",
       "<table border=\"1\" class=\"dataframe\">\n",
       "  <thead>\n",
       "    <tr style=\"text-align: right;\">\n",
       "      <th></th>\n",
       "      <th>reviewId</th>\n",
       "      <th>userName</th>\n",
       "      <th>userImage</th>\n",
       "      <th>content</th>\n",
       "      <th>score</th>\n",
       "      <th>thumbsUpCount</th>\n",
       "      <th>reviewCreatedVersion</th>\n",
       "      <th>at</th>\n",
       "      <th>replyContent</th>\n",
       "      <th>repliedAt</th>\n",
       "      <th>appVersion</th>\n",
       "    </tr>\n",
       "  </thead>\n",
       "  <tbody>\n",
       "    <tr>\n",
       "      <th>0</th>\n",
       "      <td>4048f51a-ced0-415d-aaed-e101f11a2b6a</td>\n",
       "      <td>Pengguna Google</td>\n",
       "      <td>https://play-lh.googleusercontent.com/EGemoI2N...</td>\n",
       "      <td>Saya edit bintangnya!! Tolong yah diperbaiki d...</td>\n",
       "      <td>1</td>\n",
       "      <td>25</td>\n",
       "      <td>3.297.0</td>\n",
       "      <td>2025-02-05 04:21:19</td>\n",
       "      <td>Hi Toppers, silakan sampaikan kritik/saran ata...</td>\n",
       "      <td>2025-02-05 04:47:02</td>\n",
       "      <td>3.297.0</td>\n",
       "    </tr>\n",
       "    <tr>\n",
       "      <th>1</th>\n",
       "      <td>e3a40458-3de7-4ee4-a6e6-947199a50124</td>\n",
       "      <td>Pengguna Google</td>\n",
       "      <td>https://play-lh.googleusercontent.com/EGemoI2N...</td>\n",
       "      <td>Sejak update, sekarang tidak lagi terlihat kap...</td>\n",
       "      <td>4</td>\n",
       "      <td>11</td>\n",
       "      <td>3.298.0</td>\n",
       "      <td>2025-02-07 20:38:30</td>\n",
       "      <td>Terima kasih sudah mempercayakan Tokopedia seb...</td>\n",
       "      <td>2025-02-07 21:07:08</td>\n",
       "      <td>3.298.0</td>\n",
       "    </tr>\n",
       "    <tr>\n",
       "      <th>2</th>\n",
       "      <td>7d3ebfab-e66b-426d-9601-28aad6bd237b</td>\n",
       "      <td>Pengguna Google</td>\n",
       "      <td>https://play-lh.googleusercontent.com/EGemoI2N...</td>\n",
       "      <td>Tokopedia media belanja online yang super pali...</td>\n",
       "      <td>1</td>\n",
       "      <td>9</td>\n",
       "      <td>3.297.0</td>\n",
       "      <td>2025-02-06 23:21:19</td>\n",
       "      <td>Hi Toppers, silakan sampaikan kritik/saran ata...</td>\n",
       "      <td>2025-02-06 23:47:01</td>\n",
       "      <td>3.297.0</td>\n",
       "    </tr>\n",
       "    <tr>\n",
       "      <th>3</th>\n",
       "      <td>eb731139-67ad-4356-8cde-dfe99915d0f9</td>\n",
       "      <td>Pengguna Google</td>\n",
       "      <td>https://play-lh.googleusercontent.com/EGemoI2N...</td>\n",
       "      <td>kembalikan pengiriman YES JNE atau pilihan jas...</td>\n",
       "      <td>1</td>\n",
       "      <td>9</td>\n",
       "      <td>3.297.0</td>\n",
       "      <td>2025-02-06 10:28:33</td>\n",
       "      <td>Halo Toppers, terima kasih atas rating yang ka...</td>\n",
       "      <td>2025-02-06 11:07:06</td>\n",
       "      <td>3.297.0</td>\n",
       "    </tr>\n",
       "    <tr>\n",
       "      <th>4</th>\n",
       "      <td>27ec601b-9af2-4876-83e2-10fc3214ecf2</td>\n",
       "      <td>Pengguna Google</td>\n",
       "      <td>https://play-lh.googleusercontent.com/EGemoI2N...</td>\n",
       "      <td>Baru pertama transaksi setelah pembayaran via ...</td>\n",
       "      <td>1</td>\n",
       "      <td>1</td>\n",
       "      <td>3.298.0</td>\n",
       "      <td>2025-02-08 19:57:25</td>\n",
       "      <td>Hi Toppers, silakan sampaikan kritik/saran ata...</td>\n",
       "      <td>2025-02-08 20:27:05</td>\n",
       "      <td>3.298.0</td>\n",
       "    </tr>\n",
       "  </tbody>\n",
       "</table>\n",
       "</div>"
      ],
      "text/plain": [
       "                               reviewId         userName  \\\n",
       "0  4048f51a-ced0-415d-aaed-e101f11a2b6a  Pengguna Google   \n",
       "1  e3a40458-3de7-4ee4-a6e6-947199a50124  Pengguna Google   \n",
       "2  7d3ebfab-e66b-426d-9601-28aad6bd237b  Pengguna Google   \n",
       "3  eb731139-67ad-4356-8cde-dfe99915d0f9  Pengguna Google   \n",
       "4  27ec601b-9af2-4876-83e2-10fc3214ecf2  Pengguna Google   \n",
       "\n",
       "                                           userImage  \\\n",
       "0  https://play-lh.googleusercontent.com/EGemoI2N...   \n",
       "1  https://play-lh.googleusercontent.com/EGemoI2N...   \n",
       "2  https://play-lh.googleusercontent.com/EGemoI2N...   \n",
       "3  https://play-lh.googleusercontent.com/EGemoI2N...   \n",
       "4  https://play-lh.googleusercontent.com/EGemoI2N...   \n",
       "\n",
       "                                             content  score  thumbsUpCount  \\\n",
       "0  Saya edit bintangnya!! Tolong yah diperbaiki d...      1             25   \n",
       "1  Sejak update, sekarang tidak lagi terlihat kap...      4             11   \n",
       "2  Tokopedia media belanja online yang super pali...      1              9   \n",
       "3  kembalikan pengiriman YES JNE atau pilihan jas...      1              9   \n",
       "4  Baru pertama transaksi setelah pembayaran via ...      1              1   \n",
       "\n",
       "  reviewCreatedVersion                  at  \\\n",
       "0              3.297.0 2025-02-05 04:21:19   \n",
       "1              3.298.0 2025-02-07 20:38:30   \n",
       "2              3.297.0 2025-02-06 23:21:19   \n",
       "3              3.297.0 2025-02-06 10:28:33   \n",
       "4              3.298.0 2025-02-08 19:57:25   \n",
       "\n",
       "                                        replyContent           repliedAt  \\\n",
       "0  Hi Toppers, silakan sampaikan kritik/saran ata... 2025-02-05 04:47:02   \n",
       "1  Terima kasih sudah mempercayakan Tokopedia seb... 2025-02-07 21:07:08   \n",
       "2  Hi Toppers, silakan sampaikan kritik/saran ata... 2025-02-06 23:47:01   \n",
       "3  Halo Toppers, terima kasih atas rating yang ka... 2025-02-06 11:07:06   \n",
       "4  Hi Toppers, silakan sampaikan kritik/saran ata... 2025-02-08 20:27:05   \n",
       "\n",
       "  appVersion  \n",
       "0    3.297.0  \n",
       "1    3.298.0  \n",
       "2    3.297.0  \n",
       "3    3.297.0  \n",
       "4    3.298.0  "
      ]
     },
     "execution_count": 6,
     "metadata": {},
     "output_type": "execute_result"
    }
   ],
   "source": [
    "app_reviews_df.head()"
   ]
  },
  {
   "cell_type": "markdown",
   "metadata": {},
   "source": [
    "Keterangan dataset:\n",
    "1. `reviewID`: Berisi id dari review yang diberikan oleh pengguna\n",
    "2. `userName`: Nama dari pengguna yang memberikan ulasan\n",
    "3. `userImage`: Foto profil pengguna yang memberikan ulasan\n",
    "4. `content`: Isi dari ulasan yang diberikan pengguna terhadap aplikasi tokopedia\n",
    "5. `score`: Rating atau score atau nilai yang diberikan pengguna terhadap aplikasi\n",
    "6. `thumbsUpCount`: Jumlah like yang diberikan\n",
    "7. `reviewCreatedVersion`: Versi aplikasi pengguna saat memberikan ulasan\n",
    "8. `at`: Tanggal dan jam pada saat pengguna memberikan ulasan\n",
    "9. `replyContent`: Balasan dari admin pihak tokopedia atas ulasan yang diberikan pengguna\n",
    "10. `repliedAt`: Tanggal dan jam dari balasan pihak tokopedia atas ulasan yang diberikan pengguna\n",
    "11. `appVersion`: Versi aplikasi tokopedia yang pengguna unduh dan gunakan saat memberikan ulasan"
   ]
  }
 ],
 "metadata": {
  "kernelspec": {
   "display_name": "submission-pengembanganML-pertama-jhskT387",
   "language": "python",
   "name": "python3"
  },
  "language_info": {
   "codemirror_mode": {
    "name": "ipython",
    "version": 3
   },
   "file_extension": ".py",
   "mimetype": "text/x-python",
   "name": "python",
   "nbconvert_exporter": "python",
   "pygments_lexer": "ipython3",
   "version": "3.10.0"
  }
 },
 "nbformat": 4,
 "nbformat_minor": 2
}
